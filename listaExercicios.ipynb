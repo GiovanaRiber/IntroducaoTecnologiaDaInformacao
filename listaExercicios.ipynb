{
 "cells": [
  {
   "cell_type": "code",
   "execution_count": null,
   "metadata": {
    "colab": {
     "base_uri": "https://localhost:8080/"
    },
    "executionInfo": {
     "elapsed": 4258,
     "status": "ok",
     "timestamp": 1691852245519,
     "user": {
      "displayName": "Giovana Ribeiro",
      "userId": "16019217474922625237"
     },
     "user_tz": 180
    },
    "id": "PSPOJn7qVRtg",
    "outputId": "00b7a765-9db8-458a-96c8-0298d3b4e15a"
   },
   "outputs": [
    {
     "name": "stdout",
     "output_type": "stream",
     "text": [
      "Exercício 1\n",
      "\n",
      "2\n",
      "12.566370614359172\n"
     ]
    }
   ],
   "source": [
    "from math import pi\n",
    "print(\"Exercício 1\\n\")\n",
    "r = float(input())\n",
    "\n",
    "s = pi * (r*r)\n",
    "\n",
    "print(s)"
   ]
  },
  {
   "cell_type": "code",
   "execution_count": null,
   "metadata": {
    "colab": {
     "base_uri": "https://localhost:8080/"
    },
    "executionInfo": {
     "elapsed": 7667,
     "status": "ok",
     "timestamp": 1691852253177,
     "user": {
      "displayName": "Giovana Ribeiro",
      "userId": "16019217474922625237"
     },
     "user_tz": 180
    },
    "id": "mPYAE22OXRQ4",
    "outputId": "597208fe-2514-4fa0-b74a-e956efc48c59"
   },
   "outputs": [
    {
     "name": "stdout",
     "output_type": "stream",
     "text": [
      "Exercício 2\n",
      "\n",
      "0\n",
      "0\n",
      "1\n",
      "1\n",
      "1.4142135623730951\n"
     ]
    }
   ],
   "source": [
    "from math import sqrt\n",
    "\n",
    "print(\"Exercício 2\\n\")\n",
    "x1 = float(input())\n",
    "y1 = float(input())\n",
    "x2 = float(input())\n",
    "y2 = float(input())\n",
    "\n",
    "x = sqrt((x2 - x1)*(x2 - x1) + (y2 - y1)*(y2 - y1))\n",
    "print(x)"
   ]
  },
  {
   "cell_type": "code",
   "execution_count": null,
   "metadata": {
    "colab": {
     "base_uri": "https://localhost:8080/"
    },
    "executionInfo": {
     "elapsed": 9,
     "status": "ok",
     "timestamp": 1691852253177,
     "user": {
      "displayName": "Giovana Ribeiro",
      "userId": "16019217474922625237"
     },
     "user_tz": 180
    },
    "id": "T_6l1HCZdXBN",
    "outputId": "021ef4d6-10c2-4c43-9ce1-df0f30c8e649"
   },
   "outputs": [
    {
     "name": "stdout",
     "output_type": "stream",
     "text": [
      "Exercício 3\n",
      "\n"
     ]
    }
   ],
   "source": [
    "print(\"Exercício 3\\n\")\n",
    "\n"
   ]
  },
  {
   "cell_type": "code",
   "execution_count": null,
   "metadata": {
    "colab": {
     "base_uri": "https://localhost:8080/"
    },
    "executionInfo": {
     "elapsed": 5701,
     "status": "ok",
     "timestamp": 1691852258871,
     "user": {
      "displayName": "Giovana Ribeiro",
      "userId": "16019217474922625237"
     },
     "user_tz": 180
    },
    "id": "7oyV1nBfdXYa",
    "outputId": "de54d5a3-5355-40f7-ba5c-0478ea289597"
   },
   "outputs": [
    {
     "name": "stdout",
     "output_type": "stream",
     "text": [
      "Exercício 4\n",
      "\n",
      "Estão em quantas pessoas? 8\n",
      "Quantos balões? 16\n",
      "\n",
      "Cada pessoa ficou com 2 balões\n",
      "Sobraram 0 balões\n"
     ]
    }
   ],
   "source": [
    "print(\"Exercício 4\\n\")\n",
    "pessoas = int(input(\"Estão em quantas pessoas? \"))\n",
    "b = int(input(\"Quantos balões? \"))\n",
    "\n",
    "resto = b % pessoas\n",
    "b = b - resto\n",
    "q = b / pessoas\n",
    "\n",
    "print(\"\\nCada pessoa ficou com\" , int(q), \"balões\")\n",
    "print(\"Sobraram\", resto, \"balões\")"
   ]
  },
  {
   "cell_type": "code",
   "execution_count": null,
   "metadata": {
    "colab": {
     "base_uri": "https://localhost:8080/",
     "height": 88
    },
    "executionInfo": {
     "elapsed": 10755,
     "status": "ok",
     "timestamp": 1691854271474,
     "user": {
      "displayName": "Giovana Ribeiro",
      "userId": "16019217474922625237"
     },
     "user_tz": 180
    },
    "id": "vGsw1Ampf9KF",
    "outputId": "01a7efb9-a54f-4c7b-e7a9-f2ef3e565a9a"
   },
   "outputs": [
    {
     "name": "stdout",
     "output_type": "stream",
     "text": [
      "Exercício 5\n",
      "\n",
      "Laranja\n"
     ]
    },
    {
     "data": {
      "application/vnd.google.colaboratory.intrinsic+json": {
       "type": "string"
      },
      "text/plain": [
       "'l'"
      ]
     },
     "execution_count": 15,
     "metadata": {},
     "output_type": "execute_result"
    }
   ],
   "source": [
    "print(\"Exercício 5\\n\")\n",
    "\n",
    "s = input().lower()\n",
    "s[0]"
   ]
  },
  {
   "cell_type": "code",
   "execution_count": null,
   "metadata": {
    "colab": {
     "base_uri": "https://localhost:8080/"
    },
    "executionInfo": {
     "elapsed": 9016,
     "status": "ok",
     "timestamp": 1691855539048,
     "user": {
      "displayName": "Giovana Ribeiro",
      "userId": "16019217474922625237"
     },
     "user_tz": 180
    },
    "id": "FmT2tySxjefE",
    "outputId": "f9022eb5-fa2b-46f1-8801-1e74762e5eed"
   },
   "outputs": [
    {
     "name": "stdout",
     "output_type": "stream",
     "text": [
      "Exercício 6\n",
      "\n",
      "Introcomp\n",
      "python\n",
      "inthon\n"
     ]
    }
   ],
   "source": [
    "print(\"Exercício 6\\n\")\n",
    "\n",
    "A = input().lower()\n",
    "B = input().lower()\n",
    "\n",
    "if len(A) < 3 or len(B) < 3:\n",
    "  print(\"\\nImpossível prosseguir\")\n",
    "  quit()\n",
    "else:\n",
    "  print(A[0:3]+B[-3:])"
   ]
  },
  {
   "cell_type": "code",
   "execution_count": null,
   "metadata": {
    "colab": {
     "base_uri": "https://localhost:8080/"
    },
    "executionInfo": {
     "elapsed": 5513,
     "status": "ok",
     "timestamp": 1691854256245,
     "user": {
      "displayName": "Giovana Ribeiro",
      "userId": "16019217474922625237"
     },
     "user_tz": 180
    },
    "id": "hAvLuczzje8l",
    "outputId": "6a107468-f607-4272-cc63-ffec1b56904d"
   },
   "outputs": [
    {
     "name": "stdout",
     "output_type": "stream",
     "text": [
      "Exercício 7\n",
      "\n",
      "Informe um valor: 10\n",
      "Não\n"
     ]
    }
   ],
   "source": [
    "print(\"Exercício 7\\n\")\n",
    "n = int(input(\"Informe um valor: \"))\n",
    "\n",
    "cont = 1\n",
    "div = 0\n",
    "while cont <= n:\n",
    "  if n % cont == 0:\n",
    "    div = div + 1\n",
    "  cont = cont + 1\n",
    "\n",
    "if div == 2:\n",
    "  primo = \"Sim\"\n",
    "else:\n",
    "  primo = \"Não\"\n",
    "\n",
    "print(primo)"
   ]
  },
  {
   "cell_type": "code",
   "execution_count": null,
   "metadata": {
    "colab": {
     "base_uri": "https://localhost:8080/"
    },
    "executionInfo": {
     "elapsed": 7839,
     "status": "ok",
     "timestamp": 1691852288355,
     "user": {
      "displayName": "Giovana Ribeiro",
      "userId": "16019217474922625237"
     },
     "user_tz": 180
    },
    "id": "JrA1e7CtmPCV",
    "outputId": "0dcf6d07-417c-4af7-a4c3-ef169fd38739"
   },
   "outputs": [
    {
     "name": "stdout",
     "output_type": "stream",
     "text": [
      "Exercício 8\n",
      "\n",
      "7\n",
      "2\n",
      "2\n",
      "4\n",
      "6\n"
     ]
    }
   ],
   "source": [
    "print(\"Exercício 8\\n\")\n",
    "n = int(input())\n",
    "m = int(input())\n",
    "\n",
    "cont = 1\n",
    "while cont <= n:\n",
    "  if cont % m == 0:\n",
    "    print(cont)\n",
    "  cont = cont + 1"
   ]
  },
  {
   "cell_type": "code",
   "execution_count": null,
   "metadata": {
    "colab": {
     "base_uri": "https://localhost:8080/"
    },
    "executionInfo": {
     "elapsed": 1785,
     "status": "ok",
     "timestamp": 1691858767650,
     "user": {
      "displayName": "Giovana Ribeiro",
      "userId": "16019217474922625237"
     },
     "user_tz": 180
    },
    "id": "4HAiFf--opGr",
    "outputId": "8807768f-ef9c-4fac-b5da-ce6cb27d2a12"
   },
   "outputs": [
    {
     "name": "stdout",
     "output_type": "stream",
     "text": [
      "Exercício 9\n",
      "\n",
      "4\n",
      "1\n",
      "1\n",
      "2\n",
      "3\n"
     ]
    }
   ],
   "source": [
    "print(\"Exercício 9\\n\")\n",
    "\n",
    "n = int(input())\n",
    "\n",
    "cont = 1\n",
    "a = 1\n",
    "b = 0\n",
    "\n",
    "while cont <= n:\n",
    "  c = a + b\n",
    "  print(c)\n",
    "  a = b\n",
    "  b = c\n",
    "  cont = cont + 1"
   ]
  },
  {
   "cell_type": "code",
   "execution_count": 8,
   "metadata": {
    "colab": {
     "base_uri": "https://localhost:8080/"
    },
    "executionInfo": {
     "elapsed": 2672,
     "status": "ok",
     "timestamp": 1692470860110,
     "user": {
      "displayName": "Giovana Ribeiro",
      "userId": "16019217474922625237"
     },
     "user_tz": 180
    },
    "id": "Wsmh6QW4pQzv",
    "outputId": "638b7b9a-d06b-47bd-df5f-d9a34a213704"
   },
   "outputs": [
    {
     "name": "stdout",
     "output_type": "stream",
     "text": [
      "Exercício 10\n",
      "\n",
      "123\n",
      "123246369492\n"
     ]
    }
   ],
   "source": [
    "print(\"Exercício 10\\n\")\n",
    "\n",
    "a = int(input())\n",
    "\n",
    "a = int(str(a) * 1)\n",
    "aa = int(str(a) * 2)\n",
    "aaa = int(str(a) * 3)\n",
    "aaaa = int(str(a) * 4)\n",
    "\n",
    "N = a + aa + aaa + aaaa\n",
    "print(N)"
   ]
  }
 ],
 "metadata": {
  "colab": {
   "authorship_tag": "ABX9TyMxJ6o+i5bIDGo7uyywBTeP",
   "provenance": []
  },
  "kernelspec": {
   "display_name": "Python 3",
   "name": "python3"
  },
  "language_info": {
   "name": "python"
  }
 },
 "nbformat": 4,
 "nbformat_minor": 0
}
